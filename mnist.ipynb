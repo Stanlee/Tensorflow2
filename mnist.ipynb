{
 "cells": [
  {
   "cell_type": "code",
   "execution_count": 1,
   "metadata": {
    "collapsed": true
   },
   "outputs": [],
   "source": [
    "import tensorflow as tf\n",
    "import numpy as np\n",
    "\n",
    "fd = open('./Desktop/mnist/train-images.idx3-ubyte')\n",
    "images = np.fromfile(file=fd, dtype=np.uint8)\n",
    "images = images[16:].reshape([60000,28,28]).astype(np.float)\n",
    "\n",
    "fd = open('./Desktop/mnist/train-labels.idx1-ubyte')\n",
    "labels = np.fromfile(file=fd, dtype=np.uint8)\n",
    "labels = labels[8:].reshape([60000]).astype(np.int)\n"
   ]
  },
  {
   "cell_type": "code",
   "execution_count": 2,
   "metadata": {
    "collapsed": true
   },
   "outputs": [],
   "source": [
    "fd = open('./Desktop/mnist/t10k-images.idx3-ubyte')\n",
    "images2 = np.fromfile(file=fd, dtype=np.uint8)\n",
    "images2 = images2[16:].reshape([10000,28,28]).astype(np.float)\n",
    "\n",
    "fd = open('./Desktop/mnist/t10k-labels.idx1-ubyte')\n",
    "labels2 = np.fromfile(file=fd, dtype=np.uint8)\n",
    "labels2 = labels2[8:].reshape([10000]).astype(np.int)"
   ]
  },
  {
   "cell_type": "code",
   "execution_count": 3,
   "metadata": {},
   "outputs": [
    {
     "name": "stdout",
     "output_type": "stream",
     "text": [
      "(60000, 28, 28)\n",
      "(60000,)\n"
     ]
    }
   ],
   "source": [
    "type(images)\n",
    "print(images.shape)\n",
    "print(labels.shape)\n",
    "#images[:2]"
   ]
  },
  {
   "cell_type": "code",
   "execution_count": 7,
   "metadata": {},
   "outputs": [
    {
     "name": "stdout",
     "output_type": "stream",
     "text": [
      "44130.9766736\n",
      "61868.918457\n",
      "13244.7954712\n",
      "3428.23196411\n",
      "4809.02093506\n",
      "4395.38037109\n",
      "2858.6390686\n",
      "2293.48852539\n",
      "3866.12335205\n",
      "9310.5512085\n",
      "3161.79833984\n",
      "5672.27038574\n",
      "2303.98962402\n",
      "1751.34197998\n",
      "2415.00918579\n",
      "8411.3770752\n",
      "7824.11456299\n",
      "4737.10714722\n",
      "1941.03683472\n",
      "1714.43287659\n",
      "1602.00836182\n",
      "3604.3089447\n",
      "6252.52194214\n",
      "7937.9765625\n",
      "2121.26303101\n",
      "1715.96612549\n",
      "1657.12591553\n",
      "6673.09173584\n",
      "5035.20843506\n",
      "1842.95516968\n",
      "1496.12316895\n",
      "1400.47489929\n",
      "3306.17222595\n",
      "11099.6523438\n",
      "3789.68212891\n",
      "1669.28579712\n",
      "1469.23815918\n",
      "1360.87071228\n",
      "1465.00939941\n",
      "10915.6008301\n",
      "8513.59552002\n",
      "4067.42019653\n",
      "1665.07362366\n",
      "1510.01849365\n",
      "1404.08087158\n",
      "1667.20310974\n",
      "7511.87884521\n",
      "1686.30587769\n",
      "1339.40371704\n",
      "1452.8586731\n",
      "0.8467\n",
      "0.8399\n"
     ]
    }
   ],
   "source": [
    "X = tf.placeholder(shape=[None, 28*28], dtype=tf.float32, name='X')\n",
    "Y = tf.placeholder(shape=[None], dtype=tf.int64, name='Y')\n",
    "\n",
    "W = tf.Variable(tf.zeros([28*28, 10]))\n",
    "B = tf.Variable(tf.zeros([10]))\n",
    "\n",
    "Y_= tf.matmul(X,W) + B\n",
    "\n",
    "Y_onehot = tf.one_hot(Y, 10, axis=1)\n",
    "\n",
    "softmax = tf.nn.softmax(Y_)\n",
    "\n",
    "correct = tf.equal(tf.argmax(softmax,1), tf.argmax(Y_onehot,1))\n",
    "acc = tf.reduce_mean(tf.cast(correct, tf.float32))\n",
    "\n",
    "#Creat Model\n",
    "loss = tf.reduce_mean(tf.nn.softmax_cross_entropy_with_logits(logits=Y_, labels=Y_onehot))\n",
    "\n",
    "trainer = tf.train.GradientDescentOptimizer(learning_rate=0.05)\n",
    "optimize = trainer.minimize(loss)\n",
    "\n",
    "# In training loop\n",
    "\n",
    "with tf.Session() as sess:\n",
    "    \n",
    "    sess.run(tf.global_variables_initializer())\n",
    "    \n",
    "    batch_size= 10000\n",
    "    batch_count = 60000 // batch_size   \n",
    "    \n",
    "    for epoch in range(50):\n",
    "        total_loss = 0\n",
    "        for i in range(batch_count):\n",
    "            batch_index = i * batch_size\n",
    "            img = np.reshape(images[batch_index:batch_index+batch_size], [batch_size, 28*28])\n",
    "            label = labels[batch_index:batch_index+batch_size]\n",
    "            _, loss_v = sess.run([optimize, loss],feed_dict={X:img, Y:label})\n",
    "            total_loss += loss_v \n",
    "            \n",
    "        print(total_loss)\n",
    "        \n",
    "    TRAINING_ACC = sess.run(acc, feed_dict={X:img, Y:label})\n",
    "    print(TRAINING_ACC)\n",
    "    \n",
    "    TEST_ACCURACY_ACC = sess.run(acc, feed_dict={X:np.reshape(images2,[10000,28*28]), Y:labels2})\n",
    "    print(TEST_ACCURACY_ACC)\n",
    "#print(acc)"
   ]
  }
 ],
 "metadata": {
  "kernelspec": {
   "display_name": "Python 2",
   "language": "python",
   "name": "python2"
  },
  "language_info": {
   "codemirror_mode": {
    "name": "ipython",
    "version": 2
   },
   "file_extension": ".py",
   "mimetype": "text/x-python",
   "name": "python",
   "nbconvert_exporter": "python",
   "pygments_lexer": "ipython2",
   "version": "2.7.13"
  }
 },
 "nbformat": 4,
 "nbformat_minor": 2
}

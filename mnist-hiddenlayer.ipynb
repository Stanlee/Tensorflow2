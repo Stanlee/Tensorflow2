{
 "cells": [
  {
   "cell_type": "code",
   "execution_count": 1,
   "metadata": {
    "collapsed": true
   },
   "outputs": [],
   "source": [
    "import tensorflow as tf\n",
    "import numpy as np\n",
    "\n",
    "fd = open('./Desktop/mnist/train-images.idx3-ubyte')\n",
    "images = np.fromfile(file=fd, dtype=np.uint8)\n",
    "images = images[16:].reshape([60000,28,28]).astype(np.float)\n",
    "images = images/127 - 1.0\n",
    "\n",
    "fd = open('./Desktop/mnist/train-labels.idx1-ubyte')\n",
    "labels = np.fromfile(file=fd, dtype=np.uint8)\n",
    "labels = labels[8:].reshape([60000]).astype(np.int)\n"
   ]
  },
  {
   "cell_type": "code",
   "execution_count": 2,
   "metadata": {
    "collapsed": true
   },
   "outputs": [],
   "source": [
    "fd = open('./Desktop/mnist/t10k-images.idx3-ubyte')\n",
    "images2 = np.fromfile(file=fd, dtype=np.uint8)\n",
    "images2 = images2[16:].reshape([10000,28,28]).astype(np.float)\n",
    "images2 = images2/127 - 1.0\n",
    "\n",
    "fd = open('./Desktop/mnist/t10k-labels.idx1-ubyte')\n",
    "labels2 = np.fromfile(file=fd, dtype=np.uint8)\n",
    "labels2 = labels2[8:].reshape([10000]).astype(np.int)"
   ]
  },
  {
   "cell_type": "code",
   "execution_count": 3,
   "metadata": {},
   "outputs": [
    {
     "name": "stdout",
     "output_type": "stream",
     "text": [
      "(60000, 28, 28)\n",
      "(60000,)\n"
     ]
    }
   ],
   "source": [
    "type(images)\n",
    "print(images.shape)\n",
    "print(labels.shape)\n",
    "#images[:2]"
   ]
  },
  {
   "cell_type": "code",
   "execution_count": 7,
   "metadata": {},
   "outputs": [
    {
     "name": "stdout",
     "output_type": "stream",
     "text": [
      "40.8014609814\n",
      "13.347802639\n",
      "15.6460599899\n",
      "12.6745977402\n",
      "13.6638116837\n",
      "12.5361167192\n",
      "12.7077459097\n",
      "12.6762880087\n",
      "12.8713691235\n",
      "12.6774230003\n",
      "11.0794736147\n",
      "11.1289850473\n",
      "13.0261121988\n",
      "19.1097499132\n",
      "10.4530848265\n",
      "11.5364874601\n",
      "11.1703654528\n",
      "12.7562937737\n",
      "13.969507575\n",
      "13.1419231892\n",
      "12.7897040844\n",
      "11.4120020866\n",
      "10.7119758129\n",
      "10.2454150915\n",
      "11.1799017191\n",
      "11.7583501339\n",
      "12.1841830015\n",
      "10.1553928852\n",
      "8.88577604294\n",
      "9.67706644535\n",
      "8.04386842251\n",
      "9.02614223957\n",
      "11.0092506409\n",
      "8.58114683628\n",
      "8.43950891495\n",
      "7.7408747673\n",
      "6.70551943779\n",
      "5.42885124683\n",
      "5.6418620944\n",
      "5.16267120838\n",
      "5.53031778336\n",
      "4.47837889194\n",
      "3.97114157677\n",
      "4.25578117371\n",
      "3.65874302387\n",
      "3.83482396603\n",
      "3.30487132072\n",
      "3.63083747029\n",
      "4.43819415569\n",
      "2.86191946268\n",
      "0.8891\n",
      "0.8843\n"
     ]
    }
   ],
   "source": [
    "X = tf.placeholder(shape=[None, 28*28], dtype=tf.float32, name='X')\n",
    "Y = tf.placeholder(shape=[None], dtype=tf.int64, name='Y')\n",
    "\n",
    "# hidden1\n",
    "weights1 = tf.Variable(tf.truncated_normal([28*28, 300], stddev=0.02), name=\"weights1\")\n",
    "biases1 = tf.Variable(tf.zeros([300]), name=\"biases1\")\n",
    "hidden1 = tf.matmul(X, weights1) + biases1\n",
    "hidden1 = tf.nn.relu(hidden1, \"relu1\")\n",
    "\n",
    "# hidden2\n",
    "weights2 = tf.Variable(tf.truncated_normal([300, 200], stddev=0.02), name=\"weights2\")\n",
    "biases2 = tf.Variable(tf.zeros([200]), name=\"biases2\")\n",
    "hidden2 = tf.matmul(hidden1, weights2) + biases2\n",
    "hidden2 = tf.nn.relu(hidden2, \"relu2\")\n",
    "\n",
    "# ouput\n",
    "weights3 = tf.Variable(tf.truncated_normal([200, 10]),name=\"weights3\")\n",
    "biases3 = tf.Variable(tf.truncated_normal([10]), name=\"biases3\")\n",
    "\n",
    "Y_= tf.matmul(hidden2,weights3) + biases3\n",
    "\n",
    "Y_onehot = tf.one_hot(Y, 10, axis=1)\n",
    "\n",
    "softmax = tf.nn.softmax(Y_)\n",
    "\n",
    "correct = tf.equal(tf.argmax(softmax,1), tf.argmax(Y_onehot,1))\n",
    "acc = tf.reduce_mean(tf.cast(correct, tf.float32))\n",
    "\n",
    "#Creat Model\n",
    "loss = tf.reduce_mean(tf.nn.softmax_cross_entropy_with_logits(logits=Y_, labels=Y_onehot))\n",
    "\n",
    "trainer = tf.train.GradientDescentOptimizer(learning_rate=0.05)\n",
    "optimize = trainer.minimize(loss)\n",
    "\n",
    "# In training loop\n",
    "\n",
    "with tf.Session() as sess:\n",
    "    \n",
    "    sess.run(tf.global_variables_initializer())\n",
    "    \n",
    "    batch_size= 10000\n",
    "    batch_count = 60000 // batch_size   \n",
    "    \n",
    "    for epoch in range(50):\n",
    "        total_loss = 0\n",
    "        for i in range(batch_count):\n",
    "            batch_index = i * batch_size\n",
    "            img = np.reshape(images[batch_index:batch_index+batch_size], [batch_size, 28*28])\n",
    "            label = labels[batch_index:batch_index+batch_size]\n",
    "            _, loss_v = sess.run([optimize, loss],feed_dict={X:img, Y:label})\n",
    "            total_loss += loss_v \n",
    "            \n",
    "        print(total_loss)\n",
    "        \n",
    "    TRAINING_ACC = sess.run(acc, feed_dict={X:img, Y:label})\n",
    "    print(TRAINING_ACC)\n",
    "    \n",
    "    TEST_ACCURACY_ACC = sess.run(acc, feed_dict={X:np.reshape(images2,[10000,28*28]), Y:labels2})\n",
    "    print(TEST_ACCURACY_ACC)\n",
    "#print(acc)"
   ]
  }
 ],
 "metadata": {
  "kernelspec": {
   "display_name": "Python 2",
   "language": "python",
   "name": "python2"
  },
  "language_info": {
   "codemirror_mode": {
    "name": "ipython",
    "version": 2
   },
   "file_extension": ".py",
   "mimetype": "text/x-python",
   "name": "python",
   "nbconvert_exporter": "python",
   "pygments_lexer": "ipython2",
   "version": "2.7.13"
  }
 },
 "nbformat": 4,
 "nbformat_minor": 2
}

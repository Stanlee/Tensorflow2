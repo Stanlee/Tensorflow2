{
 "cells": [
  {
   "cell_type": "code",
   "execution_count": 3,
   "metadata": {},
   "outputs": [],
   "source": [
    "import tensorflow as tf\n",
    "import numpy as np\n",
    "\n",
    "fd = open('./Desktop/mnist/train-images.idx3-ubyte')\n",
    "images = np.fromfile(file=fd, dtype=np.uint8)\n",
    "images = images[16:].reshape([60000,28,28]).astype(np.float)\n",
    "images = images/127 - 1.0\n",
    "\n",
    "fd = open('./Desktop/mnist/train-labels.idx1-ubyte')\n",
    "labels = np.fromfile(file=fd, dtype=np.uint8)\n",
    "labels = labels[8:].reshape([60000]).astype(np.int)\n"
   ]
  },
  {
   "cell_type": "code",
   "execution_count": 4,
   "metadata": {},
   "outputs": [],
   "source": [
    "fd = open('./Desktop/mnist/t10k-images.idx3-ubyte')\n",
    "images2 = np.fromfile(file=fd, dtype=np.uint8)\n",
    "images2 = images2[16:].reshape([10000,28,28]).astype(np.float)\n",
    "images2 = images2/127 - 1.0\n",
    "\n",
    "fd = open('./Desktop/mnist/t10k-labels.idx1-ubyte')\n",
    "labels2 = np.fromfile(file=fd, dtype=np.uint8)\n",
    "labels2 = labels2[8:].reshape([10000]).astype(np.int)"
   ]
  },
  {
   "cell_type": "code",
   "execution_count": 5,
   "metadata": {},
   "outputs": [
    {
     "name": "stdout",
     "output_type": "stream",
     "text": [
      "(60000, 28, 28)\n",
      "(60000,)\n"
     ]
    }
   ],
   "source": [
    "type(images)\n",
    "print(images.shape)\n",
    "print(labels.shape)\n",
    "#images[:2]"
   ]
  },
  {
   "cell_type": "code",
   "execution_count": 7,
   "metadata": {},
   "outputs": [
    {
     "name": "stdout",
     "output_type": "stream",
     "text": [
      "11.8359894753\n",
      "8.69971144199\n",
      "6.96153128147\n",
      "5.71760392189\n",
      "4.95482832193\n",
      "4.48056429625\n",
      "4.12195575237\n",
      "3.83795809746\n",
      "3.61315667629\n",
      "3.43474882841\n",
      "3.29583463073\n",
      "3.18878498673\n",
      "3.10385245085\n",
      "3.03289106488\n",
      "2.97119399905\n",
      "2.91637384892\n",
      "2.86708196998\n",
      "2.82240614295\n",
      "2.78166118264\n",
      "2.74430400133\n",
      "2.7098915875\n",
      "2.67805832624\n",
      "2.64850014448\n",
      "2.6209615469\n",
      "2.59522169828\n",
      "2.57109361887\n",
      "2.54841816425\n",
      "2.52705559134\n",
      "2.50688380003\n",
      "2.48779675364\n",
      "2.46970051527\n",
      "2.45251315832\n",
      "2.43616050482\n",
      "2.42057713866\n",
      "2.4057046175\n",
      "2.39149060845\n",
      "2.37788820267\n",
      "2.36485350132\n",
      "2.35234987736\n",
      "2.34033983946\n",
      "2.32879313827\n",
      "2.31768041849\n",
      "2.30697456002\n",
      "2.2966516614\n",
      "2.28668999672\n",
      "2.27706685662\n",
      "2.26776582003\n",
      "2.25876748562\n",
      "2.25005608797\n",
      "2.24161720276\n",
      "0.9103\n",
      "0.905\n"
     ]
    }
   ],
   "source": [
    "X = tf.placeholder(shape=[None, 28*28], dtype=tf.float32, name='X')\n",
    "Y = tf.placeholder(shape=[None], dtype=tf.int64, name='Y')\n",
    "\n",
    "W = tf.Variable(tf.zeros([28*28, 10]))\n",
    "B = tf.Variable(tf.zeros([10]))\n",
    "\n",
    "Y_= tf.matmul(X,W) + B\n",
    "\n",
    "Y_onehot = tf.one_hot(Y, 10, axis=1)\n",
    "\n",
    "softmax = tf.nn.softmax(Y_)\n",
    "\n",
    "correct = tf.equal(tf.argmax(softmax,1), tf.argmax(Y_onehot,1))\n",
    "acc = tf.reduce_mean(tf.cast(correct, tf.float32))\n",
    "\n",
    "#Creat Model\n",
    "loss = tf.reduce_mean(tf.nn.softmax_cross_entropy_with_logits(logits=Y_, labels=Y_onehot))\n",
    "\n",
    "trainer = tf.train.GradientDescentOptimizer(learning_rate=0.05)\n",
    "optimize = trainer.minimize(loss)\n",
    "\n",
    "# In training loop\n",
    "\n",
    "with tf.Session() as sess:\n",
    "    \n",
    "    sess.run(tf.global_variables_initializer())\n",
    "    \n",
    "    batch_size= 10000\n",
    "    batch_count = 60000 // batch_size   \n",
    "    \n",
    "    for epoch in range(50):\n",
    "        total_loss = 0\n",
    "        for i in range(batch_count):\n",
    "            batch_index = i * batch_size\n",
    "            img = np.reshape(images[batch_index:batch_index+batch_size], [batch_size, 28*28])\n",
    "            label = labels[batch_index:batch_index+batch_size]\n",
    "            _, loss_v = sess.run([optimize, loss],feed_dict={X:img, Y:label})\n",
    "            total_loss += loss_v \n",
    "            \n",
    "        print(total_loss)\n",
    "        \n",
    "    TRAINING_ACC = sess.run(acc, feed_dict={X:img, Y:label})\n",
    "    print(TRAINING_ACC)\n",
    "    \n",
    "    TEST_ACCURACY_ACC = sess.run(acc, feed_dict={X:np.reshape(images2,[10000,28*28]), Y:labels2})\n",
    "    print(TEST_ACCURACY_ACC)\n",
    "#print(acc)"
   ]
  }
 ],
 "metadata": {
  "kernelspec": {
   "display_name": "Python 2",
   "language": "python",
   "name": "python2"
  },
  "language_info": {
   "codemirror_mode": {
    "name": "ipython",
    "version": 2
   },
   "file_extension": ".py",
   "mimetype": "text/x-python",
   "name": "python",
   "nbconvert_exporter": "python",
   "pygments_lexer": "ipython2",
   "version": "2.7.13"
  }
 },
 "nbformat": 4,
 "nbformat_minor": 2
}
